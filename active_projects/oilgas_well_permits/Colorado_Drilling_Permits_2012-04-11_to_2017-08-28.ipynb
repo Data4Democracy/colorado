{
 "cells": [
  {
   "cell_type": "markdown",
   "metadata": {},
   "source": [
    "## Colorado Oil & Gas Drilling Permits\n",
    "##### Investigating how the number of Drilling permits changed over the past year (June 2016-June 2017)\n",
    "\n",
    "* Has the new administration had an effect on the permit approval process?\n",
    "* Has the number of permit requests increased?"
   ]
  },
  {
   "cell_type": "code",
   "execution_count": 9,
   "metadata": {
    "collapsed": true
   },
   "outputs": [],
   "source": [
    "from __future__ import division\n",
    "import pandas as pd\n",
    "import numpy as np\n",
    "from datetime import timedelta\n",
    "import pymc3 as pm\n",
    "import theano.tensor as tt\n",
    "import matplotlib.pyplot as plt\n",
    "import matplotlib as mpl\n",
    "from pylab import rcParams\n",
    "%matplotlib inline"
   ]
  },
  {
   "cell_type": "markdown",
   "metadata": {},
   "source": [
    "#### Data Import"
   ]
  },
  {
   "cell_type": "code",
   "execution_count": 12,
   "metadata": {},
   "outputs": [
    {
     "data": {
      "text/html": [
       "<div>\n",
       "<table border=\"1\" class=\"dataframe\">\n",
       "  <thead>\n",
       "    <tr style=\"text-align: right;\">\n",
       "      <th></th>\n",
       "      <th>Unnamed: 0</th>\n",
       "      <th>facility_id_API</th>\n",
       "      <th>facility_type</th>\n",
       "      <th>status</th>\n",
       "      <th>facility_name</th>\n",
       "      <th>facility_num</th>\n",
       "      <th>field_name</th>\n",
       "      <th>field_num</th>\n",
       "      <th>county</th>\n",
       "      <th>coord</th>\n",
       "      <th>operator_name</th>\n",
       "      <th>operator_num</th>\n",
       "    </tr>\n",
       "  </thead>\n",
       "  <tbody>\n",
       "    <tr>\n",
       "      <th>3510</th>\n",
       "      <td>3510</td>\n",
       "      <td>05-123-31289</td>\n",
       "      <td>WELL</td>\n",
       "      <td>2010-03-11</td>\n",
       "      <td>Garden Creek</td>\n",
       "      <td>05-08H</td>\n",
       "      <td>WILDCAT</td>\n",
       "      <td>99999.0</td>\n",
       "      <td>WELD</td>\n",
       "      <td>123NWNW   8  11N   62W     6</td>\n",
       "      <td>EOG RESOURCES INC</td>\n",
       "      <td>27742</td>\n",
       "    </tr>\n",
       "    <tr>\n",
       "      <th>2338</th>\n",
       "      <td>2338</td>\n",
       "      <td>05-067-09087</td>\n",
       "      <td>WELL</td>\n",
       "      <td>2005-11-16</td>\n",
       "      <td>BRYCE</td>\n",
       "      <td>1-X</td>\n",
       "      <td>IGNACIO BLANCO</td>\n",
       "      <td>38300.0</td>\n",
       "      <td>LA PLATA</td>\n",
       "      <td>067SWSW   31 33N   9W      6</td>\n",
       "      <td>SPATTER* NICK</td>\n",
       "      <td>81448</td>\n",
       "    </tr>\n",
       "    <tr>\n",
       "      <th>4069</th>\n",
       "      <td>4069</td>\n",
       "      <td>05-123-44647</td>\n",
       "      <td>WELL</td>\n",
       "      <td>2017-04-25</td>\n",
       "      <td>HOMESTEAD</td>\n",
       "      <td>8</td>\n",
       "      <td>WATTENBERG</td>\n",
       "      <td>90750.0</td>\n",
       "      <td>WELD</td>\n",
       "      <td>123NWSE   34 1N    66W     6</td>\n",
       "      <td>VERDAD RESOURCES LLC</td>\n",
       "      <td>10651</td>\n",
       "    </tr>\n",
       "    <tr>\n",
       "      <th>1504</th>\n",
       "      <td>1504</td>\n",
       "      <td>05-045-23164</td>\n",
       "      <td>WELL</td>\n",
       "      <td>2016-05-25</td>\n",
       "      <td>Puckett</td>\n",
       "      <td>11C-31</td>\n",
       "      <td>GRAND VALLEY</td>\n",
       "      <td>31290.0</td>\n",
       "      <td>GARFIELD</td>\n",
       "      <td>045NESE   25 6S    97W     6</td>\n",
       "      <td>CAERUS PICEANCE LLC</td>\n",
       "      <td>10456</td>\n",
       "    </tr>\n",
       "    <tr>\n",
       "      <th>1360</th>\n",
       "      <td>1360</td>\n",
       "      <td>05-045-13678</td>\n",
       "      <td>WELL</td>\n",
       "      <td>2014-05-12</td>\n",
       "      <td>CHEVRON</td>\n",
       "      <td>1-14D</td>\n",
       "      <td>GRAND VALLEY</td>\n",
       "      <td>31290.0</td>\n",
       "      <td>GARFIELD</td>\n",
       "      <td>045NESE   1  6S    97W     6</td>\n",
       "      <td>BERRY PETROLEUM COMPANY LLC</td>\n",
       "      <td>10091</td>\n",
       "    </tr>\n",
       "  </tbody>\n",
       "</table>\n",
       "</div>"
      ],
      "text/plain": [
       "      Unnamed: 0 facility_id_API facility_type      status facility_name  \\\n",
       "3510        3510    05-123-31289          WELL  2010-03-11  Garden Creek   \n",
       "2338        2338    05-067-09087          WELL  2005-11-16         BRYCE   \n",
       "4069        4069    05-123-44647          WELL  2017-04-25     HOMESTEAD   \n",
       "1504        1504    05-045-23164          WELL  2016-05-25       Puckett   \n",
       "1360        1360    05-045-13678          WELL  2014-05-12       CHEVRON   \n",
       "\n",
       "     facility_num      field_name  field_num    county  \\\n",
       "3510       05-08H         WILDCAT    99999.0      WELD   \n",
       "2338          1-X  IGNACIO BLANCO    38300.0  LA PLATA   \n",
       "4069            8      WATTENBERG    90750.0      WELD   \n",
       "1504       11C-31    GRAND VALLEY    31290.0  GARFIELD   \n",
       "1360        1-14D    GRAND VALLEY    31290.0  GARFIELD   \n",
       "\n",
       "                               coord                operator_name  \\\n",
       "3510   123NWNW   8  11N   62W     6             EOG RESOURCES INC   \n",
       "2338   067SWSW   31 33N   9W      6                 SPATTER* NICK   \n",
       "4069   123NWSE   34 1N    66W     6          VERDAD RESOURCES LLC   \n",
       "1504   045NESE   25 6S    97W     6           CAERUS PICEANCE LLC   \n",
       "1360   045NESE   1  6S    97W     6   BERRY PETROLEUM COMPANY LLC   \n",
       "\n",
       "      operator_num  \n",
       "3510         27742  \n",
       "2338         81448  \n",
       "4069         10651  \n",
       "1504         10456  \n",
       "1360         10091  "
      ]
     },
     "execution_count": 12,
     "metadata": {},
     "output_type": "execute_result"
    }
   ],
   "source": [
    "# Import Colorado Oil & Gas Well permits approved 4/11/2012 - 8/28/2017\n",
    "# http://cogcc.state.co.us/data.html#/cogis\n",
    "df_wells = pd.read_csv(\"data/older_well_permits_clean.csv\")\n",
    "\n",
    "df_wells.sample(5)"
   ]
  },
  {
   "cell_type": "code",
   "execution_count": 11,
   "metadata": {},
   "outputs": [
    {
     "data": {
      "text/html": [
       "<div>\n",
       "<table border=\"1\" class=\"dataframe\">\n",
       "  <thead>\n",
       "    <tr style=\"text-align: right;\">\n",
       "      <th></th>\n",
       "      <th>Unnamed: 0</th>\n",
       "      <th>field_num</th>\n",
       "      <th>operator_num</th>\n",
       "    </tr>\n",
       "  </thead>\n",
       "  <tbody>\n",
       "    <tr>\n",
       "      <th>count</th>\n",
       "      <td>6259.000000</td>\n",
       "      <td>6247.000000</td>\n",
       "      <td>6259.000000</td>\n",
       "    </tr>\n",
       "    <tr>\n",
       "      <th>mean</th>\n",
       "      <td>3129.000000</td>\n",
       "      <td>75401.506963</td>\n",
       "      <td>39985.729030</td>\n",
       "    </tr>\n",
       "    <tr>\n",
       "      <th>std</th>\n",
       "      <td>1806.961999</td>\n",
       "      <td>27077.972283</td>\n",
       "      <td>38241.580625</td>\n",
       "    </tr>\n",
       "    <tr>\n",
       "      <th>min</th>\n",
       "      <td>0.000000</td>\n",
       "      <td>1950.000000</td>\n",
       "      <td>5.000000</td>\n",
       "    </tr>\n",
       "    <tr>\n",
       "      <th>25%</th>\n",
       "      <td>1564.500000</td>\n",
       "      <td>NaN</td>\n",
       "      <td>10350.000000</td>\n",
       "    </tr>\n",
       "    <tr>\n",
       "      <th>50%</th>\n",
       "      <td>3129.000000</td>\n",
       "      <td>NaN</td>\n",
       "      <td>10531.000000</td>\n",
       "    </tr>\n",
       "    <tr>\n",
       "      <th>75%</th>\n",
       "      <td>4693.500000</td>\n",
       "      <td>NaN</td>\n",
       "      <td>86610.000000</td>\n",
       "    </tr>\n",
       "    <tr>\n",
       "      <th>max</th>\n",
       "      <td>6258.000000</td>\n",
       "      <td>99999.000000</td>\n",
       "      <td>200077.000000</td>\n",
       "    </tr>\n",
       "  </tbody>\n",
       "</table>\n",
       "</div>"
      ],
      "text/plain": [
       "        Unnamed: 0     field_num   operator_num\n",
       "count  6259.000000   6247.000000    6259.000000\n",
       "mean   3129.000000  75401.506963   39985.729030\n",
       "std    1806.961999  27077.972283   38241.580625\n",
       "min       0.000000   1950.000000       5.000000\n",
       "25%    1564.500000           NaN   10350.000000\n",
       "50%    3129.000000           NaN   10531.000000\n",
       "75%    4693.500000           NaN   86610.000000\n",
       "max    6258.000000  99999.000000  200077.000000"
      ]
     },
     "execution_count": 11,
     "metadata": {},
     "output_type": "execute_result"
    }
   ],
   "source": [
    "df_wells.describe()"
   ]
  },
  {
   "cell_type": "code",
   "execution_count": null,
   "metadata": {
    "collapsed": true
   },
   "outputs": [],
   "source": []
  },
  {
   "cell_type": "code",
   "execution_count": null,
   "metadata": {
    "collapsed": true
   },
   "outputs": [],
   "source": []
  },
  {
   "cell_type": "code",
   "execution_count": null,
   "metadata": {
    "collapsed": true
   },
   "outputs": [],
   "source": []
  },
  {
   "cell_type": "code",
   "execution_count": null,
   "metadata": {
    "collapsed": true
   },
   "outputs": [],
   "source": []
  }
 ],
 "metadata": {
  "anaconda-cloud": {},
  "kernelspec": {
   "display_name": "Python [conda root]",
   "language": "python",
   "name": "conda-root-py"
  },
  "language_info": {
   "codemirror_mode": {
    "name": "ipython",
    "version": 2
   },
   "file_extension": ".py",
   "mimetype": "text/x-python",
   "name": "python",
   "nbconvert_exporter": "python",
   "pygments_lexer": "ipython2",
   "version": "2.7.12"
  }
 },
 "nbformat": 4,
 "nbformat_minor": 2
}
