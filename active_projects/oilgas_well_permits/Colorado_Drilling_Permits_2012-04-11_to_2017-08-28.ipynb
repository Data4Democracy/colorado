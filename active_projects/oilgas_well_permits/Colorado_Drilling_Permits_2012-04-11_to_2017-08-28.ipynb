{
 "cells": [
  {
   "cell_type": "markdown",
   "metadata": {},
   "source": [
    "## Colorado Oil & Gas Drilling Permits\n",
    "##### Investigating how the number of Drilling permits changed over the past year (June 2016-June 2017)\n",
    "\n",
    "* Has the new administration had an effect on the permit approval process?\n",
    "* Has the number of permit requests increased?"
   ]
  },
  {
   "cell_type": "code",
   "execution_count": 1,
   "metadata": {
    "collapsed": true
   },
   "outputs": [],
   "source": [
    "from __future__ import division\n",
    "import pandas as pd\n",
    "import numpy as np\n",
    "from datetime import timedelta\n",
    "import pymc3 as pm\n",
    "import theano.tensor as tt\n",
    "import matplotlib.pyplot as plt\n",
    "import matplotlib as mpl\n",
    "from pylab import rcParams\n",
    "%matplotlib inline"
   ]
  },
  {
   "cell_type": "markdown",
   "metadata": {},
   "source": [
    "#### Data Import"
   ]
  },
  {
   "cell_type": "code",
   "execution_count": 2,
   "metadata": {},
   "outputs": [
    {
     "data": {
      "text/html": [
       "<div>\n",
       "<table border=\"1\" class=\"dataframe\">\n",
       "  <thead>\n",
       "    <tr style=\"text-align: right;\">\n",
       "      <th></th>\n",
       "      <th>Unnamed: 0</th>\n",
       "      <th>facility_id_API</th>\n",
       "      <th>facility_type</th>\n",
       "      <th>status</th>\n",
       "      <th>facility_name</th>\n",
       "      <th>facility_num</th>\n",
       "      <th>field_name</th>\n",
       "      <th>field_num</th>\n",
       "      <th>county</th>\n",
       "      <th>coord</th>\n",
       "      <th>operator_name</th>\n",
       "      <th>operator_num</th>\n",
       "    </tr>\n",
       "  </thead>\n",
       "  <tbody>\n",
       "    <tr>\n",
       "      <th>382</th>\n",
       "      <td>382</td>\n",
       "      <td>05-009-06678</td>\n",
       "      <td>WELL</td>\n",
       "      <td>2017-08-20</td>\n",
       "      <td>HEFLEY</td>\n",
       "      <td>1</td>\n",
       "      <td>WILDCAT</td>\n",
       "      <td>99999.0</td>\n",
       "      <td>BACA</td>\n",
       "      <td>009CSE    9  34S   41W     6</td>\n",
       "      <td>CRAWLEY PETROLEUM CORPORATION</td>\n",
       "      <td>10599</td>\n",
       "    </tr>\n",
       "    <tr>\n",
       "      <th>458</th>\n",
       "      <td>458</td>\n",
       "      <td>05-045-20114</td>\n",
       "      <td>WELL</td>\n",
       "      <td>2013-11-21</td>\n",
       "      <td>LONG RIDGE</td>\n",
       "      <td>14B N15 595</td>\n",
       "      <td>GRAND VALLEY</td>\n",
       "      <td>31290.0</td>\n",
       "      <td>GARFIELD</td>\n",
       "      <td>045SESW   15 5S    95W     6</td>\n",
       "      <td>BERRY PETROLEUM COMPANY LLC</td>\n",
       "      <td>10091</td>\n",
       "    </tr>\n",
       "    <tr>\n",
       "      <th>2847</th>\n",
       "      <td>2847</td>\n",
       "      <td>05-103-12236</td>\n",
       "      <td>WELL</td>\n",
       "      <td>2015-03-27</td>\n",
       "      <td>FEDERAL</td>\n",
       "      <td>RGU 414-36-198</td>\n",
       "      <td>SULPHUR CREEK</td>\n",
       "      <td>80090.0</td>\n",
       "      <td>RIO BLANCO</td>\n",
       "      <td>103NWSW   36 1S    98W     6</td>\n",
       "      <td>TEP ROCKY MOUNTAIN LLC</td>\n",
       "      <td>96850</td>\n",
       "    </tr>\n",
       "    <tr>\n",
       "      <th>82</th>\n",
       "      <td>82</td>\n",
       "      <td>05-001-10041</td>\n",
       "      <td>WELL</td>\n",
       "      <td>2017-04-22</td>\n",
       "      <td>PC NORTH 1S-66-2928</td>\n",
       "      <td>7CDH</td>\n",
       "      <td>WATTENBERG</td>\n",
       "      <td>90750.0</td>\n",
       "      <td>ADAMS</td>\n",
       "      <td>001NWSW   29 1S    66W     6</td>\n",
       "      <td>EXTRACTION OIL &amp; GAS INC</td>\n",
       "      <td>10459</td>\n",
       "    </tr>\n",
       "    <tr>\n",
       "      <th>4897</th>\n",
       "      <td>4897</td>\n",
       "      <td>05-123-44542</td>\n",
       "      <td>WELL</td>\n",
       "      <td>2017-03-31</td>\n",
       "      <td>State North Platte</td>\n",
       "      <td>11-36-1XRLC</td>\n",
       "      <td>WATTENBERG</td>\n",
       "      <td>90750.0</td>\n",
       "      <td>WELD</td>\n",
       "      <td>123NWNW   36 5N    63W     6</td>\n",
       "      <td>BONANZA CREEK ENERGY OPERATING COMPANY LLC</td>\n",
       "      <td>8960</td>\n",
       "    </tr>\n",
       "  </tbody>\n",
       "</table>\n",
       "</div>"
      ],
      "text/plain": [
       "      Unnamed: 0 facility_id_API facility_type      status  \\\n",
       "382          382    05-009-06678          WELL  2017-08-20   \n",
       "458          458    05-045-20114          WELL  2013-11-21   \n",
       "2847        2847    05-103-12236          WELL  2015-03-27   \n",
       "82            82    05-001-10041          WELL  2017-04-22   \n",
       "4897        4897    05-123-44542          WELL  2017-03-31   \n",
       "\n",
       "            facility_name    facility_num     field_name  field_num  \\\n",
       "382                HEFLEY               1        WILDCAT    99999.0   \n",
       "458            LONG RIDGE     14B N15 595   GRAND VALLEY    31290.0   \n",
       "2847              FEDERAL  RGU 414-36-198  SULPHUR CREEK    80090.0   \n",
       "82    PC NORTH 1S-66-2928            7CDH     WATTENBERG    90750.0   \n",
       "4897   State North Platte     11-36-1XRLC     WATTENBERG    90750.0   \n",
       "\n",
       "          county                           coord  \\\n",
       "382         BACA   009CSE    9  34S   41W     6    \n",
       "458     GARFIELD   045SESW   15 5S    95W     6    \n",
       "2847  RIO BLANCO   103NWSW   36 1S    98W     6    \n",
       "82         ADAMS   001NWSW   29 1S    66W     6    \n",
       "4897        WELD   123NWNW   36 5N    63W     6    \n",
       "\n",
       "                                   operator_name  operator_num  \n",
       "382                CRAWLEY PETROLEUM CORPORATION         10599  \n",
       "458                  BERRY PETROLEUM COMPANY LLC         10091  \n",
       "2847                      TEP ROCKY MOUNTAIN LLC         96850  \n",
       "82                      EXTRACTION OIL & GAS INC         10459  \n",
       "4897  BONANZA CREEK ENERGY OPERATING COMPANY LLC          8960  "
      ]
     },
     "execution_count": 2,
     "metadata": {},
     "output_type": "execute_result"
    }
   ],
   "source": [
    "# Import Colorado Oil & Gas Well permits approved 4/11/2012 - 8/28/2017\n",
    "# http://cogcc.state.co.us/data.html#/cogis\n",
    "df_wells = pd.read_csv(\"data/older_well_permits_clean.csv\")\n",
    "\n",
    "df_wells.sample(5)"
   ]
  },
  {
   "cell_type": "code",
   "execution_count": 3,
   "metadata": {},
   "outputs": [
    {
     "name": "stderr",
     "output_type": "stream",
     "text": [
      "/home/griggs/anaconda2/lib/python2.7/site-packages/numpy/lib/function_base.py:4269: RuntimeWarning: Invalid value encountered in percentile\n",
      "  interpolation=interpolation)\n"
     ]
    },
    {
     "data": {
      "text/html": [
       "<div>\n",
       "<table border=\"1\" class=\"dataframe\">\n",
       "  <thead>\n",
       "    <tr style=\"text-align: right;\">\n",
       "      <th></th>\n",
       "      <th>Unnamed: 0</th>\n",
       "      <th>field_num</th>\n",
       "      <th>operator_num</th>\n",
       "    </tr>\n",
       "  </thead>\n",
       "  <tbody>\n",
       "    <tr>\n",
       "      <th>count</th>\n",
       "      <td>6259.000000</td>\n",
       "      <td>6247.000000</td>\n",
       "      <td>6259.000000</td>\n",
       "    </tr>\n",
       "    <tr>\n",
       "      <th>mean</th>\n",
       "      <td>3129.000000</td>\n",
       "      <td>75401.506963</td>\n",
       "      <td>39985.729030</td>\n",
       "    </tr>\n",
       "    <tr>\n",
       "      <th>std</th>\n",
       "      <td>1806.961999</td>\n",
       "      <td>27077.972283</td>\n",
       "      <td>38241.580625</td>\n",
       "    </tr>\n",
       "    <tr>\n",
       "      <th>min</th>\n",
       "      <td>0.000000</td>\n",
       "      <td>1950.000000</td>\n",
       "      <td>5.000000</td>\n",
       "    </tr>\n",
       "    <tr>\n",
       "      <th>25%</th>\n",
       "      <td>1564.500000</td>\n",
       "      <td>NaN</td>\n",
       "      <td>10350.000000</td>\n",
       "    </tr>\n",
       "    <tr>\n",
       "      <th>50%</th>\n",
       "      <td>3129.000000</td>\n",
       "      <td>NaN</td>\n",
       "      <td>10531.000000</td>\n",
       "    </tr>\n",
       "    <tr>\n",
       "      <th>75%</th>\n",
       "      <td>4693.500000</td>\n",
       "      <td>NaN</td>\n",
       "      <td>86610.000000</td>\n",
       "    </tr>\n",
       "    <tr>\n",
       "      <th>max</th>\n",
       "      <td>6258.000000</td>\n",
       "      <td>99999.000000</td>\n",
       "      <td>200077.000000</td>\n",
       "    </tr>\n",
       "  </tbody>\n",
       "</table>\n",
       "</div>"
      ],
      "text/plain": [
       "        Unnamed: 0     field_num   operator_num\n",
       "count  6259.000000   6247.000000    6259.000000\n",
       "mean   3129.000000  75401.506963   39985.729030\n",
       "std    1806.961999  27077.972283   38241.580625\n",
       "min       0.000000   1950.000000       5.000000\n",
       "25%    1564.500000           NaN   10350.000000\n",
       "50%    3129.000000           NaN   10531.000000\n",
       "75%    4693.500000           NaN   86610.000000\n",
       "max    6258.000000  99999.000000  200077.000000"
      ]
     },
     "execution_count": 3,
     "metadata": {},
     "output_type": "execute_result"
    }
   ],
   "source": [
    "df_wells.describe()"
   ]
  },
  {
   "cell_type": "code",
   "execution_count": 6,
   "metadata": {},
   "outputs": [
    {
     "name": "stdout",
     "output_type": "stream",
     "text": [
      "Min date of permitted wells: 2002-04-11\n",
      "Max date of permitted wells: 2017-08-28\n"
     ]
    }
   ],
   "source": [
    "print(\"Min date of permitted wells: {}\".format(df_wells['status'].min()))\n",
    "print(\"Max date of permitted wells: {}\".format(df_wells['status'].max()))"
   ]
  },
  {
   "cell_type": "code",
   "execution_count": 9,
   "metadata": {},
   "outputs": [
    {
     "data": {
      "text/plain": [
       "operator_name\n",
       "TEP ROCKY MOUNTAIN LLC                        502\n",
       "PDC ENERGY INC                                468\n",
       "WHITING OIL & GAS CORPORATION                 452\n",
       "CAERUS PICEANCE LLC                           381\n",
       "BERRY PETROLEUM COMPANY LLC                   373\n",
       "EXTRACTION OIL & GAS INC                      330\n",
       "ENCANA OIL & GAS (USA) INC                    316\n",
       "GREAT WESTERN OPERATING COMPANY LLC           293\n",
       "URSA OPERATING COMPANY LLC                    210\n",
       "BARRETT CORPORATION* BILL                     162\n",
       "SRC ENERGY INC                                150\n",
       "BONANZA CREEK ENERGY OPERATING COMPANY LLC    146\n",
       "ANADARKO E&P ONSHORE LLC                      144\n",
       "NOBLE ENERGY INC                              135\n",
       "VANGUARD OPERATING LLC                        129\n",
       "CAERUS WASHCO LLC                             127\n",
       "FIFTH CREEK ENERGY OPERATING COMPANY LLC      124\n",
       "KERR MCGEE OIL & GAS ONSHORE LP               113\n",
       "LARAMIE ENERGY LLC                            109\n",
       "CRESTONE PEAK RESOURCES OPERATING LLC          91\n",
       "WARD PETROLEUM CORPORATION                     87\n",
       "K P KAUFFMAN COMPANY INC                       85\n",
       "BISON EXPLORATION LLC                          67\n",
       "BAYSWATER EXPLORATION AND PRODUCTION LLC       59\n",
       "BP AMERICA PRODUCTION COMPANY                  53\n",
       "CHEVRON USA INC                                52\n",
       "WIEPKING-FULLERTON ENERGY LLC                  49\n",
       "VERDAD OIL & GAS CORPORATION                   43\n",
       "NIGHTHAWK PRODUCTION LLC                       41\n",
       "SANDRIDGE EXPLORATION & PRODUCTION LLC         40\n",
       "                                             ... \n",
       "JETTA OPERATING COMPANY INC                     1\n",
       "PADCO LLC                                       1\n",
       "POC-I LLC                                       1\n",
       "PETERSON ENERGY OPERATING INC                   1\n",
       "NEWPEK LLC                                      1\n",
       "NEUHAUSE PROPERTIES INC.* V. F.                 1\n",
       "MURFIN DRILLING COMPANY INC                     1\n",
       "MERIT ENERGY COMPANY                            1\n",
       "PREMIER OIL & GAS INC                           1\n",
       "PETRO MEX RESOURCES                             1\n",
       "WILLSOURCE ENTERPRISE LLC                       1\n",
       "KCPI LLC                                        1\n",
       "QEP ENERGY COMPANY                              1\n",
       "JULANDER ENERGY COMPANY                         1\n",
       "IRISH OWL LLC                                   1\n",
       "D J SIMMONS INC                                 1\n",
       "HRM RESOURCES LLC                               1\n",
       "HALCYON EXPLORATION COMPANY LLC                 1\n",
       "GULFPORT ENERGY CORPORATION                     1\n",
       "GRIZZLY OPERATING LLC                           1\n",
       "PETROLEUM MANAGEMENT LLC                        1\n",
       "RED WILLOW PRODUCTION LLC                       1\n",
       "EWS 1 DJ BASIN LLC                              1\n",
       "ENERVEST OPERATING LLC                          1\n",
       "ENERGY INVESTMENT PARTNERS LLC                  1\n",
       "EAGLE OPERATING INC                             1\n",
       "DUNCAN OIL INC                                  1\n",
       "DEVON ENERGY PRODUCTION COMPANY LP              1\n",
       "DAN A HUGHES COMPANY LP                         1\n",
       "FEES JR AND SON OIL & GAS* WALTER S             1\n",
       "Name: county, dtype: int64"
      ]
     },
     "execution_count": 9,
     "metadata": {},
     "output_type": "execute_result"
    }
   ],
   "source": [
    "# Getting listing of Companies with most well permits approved in this time period\n",
    "df_wells.groupby('operator_name').count()['county'].sort_values(axis=0, ascending=False)"
   ]
  },
  {
   "cell_type": "code",
   "execution_count": 12,
   "metadata": {},
   "outputs": [
    {
     "data": {
      "text/plain": [
       "county\n",
       "WELD          3132\n",
       "GARFIELD      1754\n",
       "RIO BLANCO     337\n",
       "ADAMS          270\n",
       "MESA           120\n",
       "LA PLATA       107\n",
       "ARAPAHOE       100\n",
       "LINCOLN         95\n",
       "YUMA            47\n",
       "GUNNISON        44\n",
       "JACKSON         43\n",
       "MOFFAT          37\n",
       "MORGAN          36\n",
       "WASHINGTON      18\n",
       "MONTEZUMA       16\n",
       "CHEYENNE        13\n",
       "ARCHULETA       12\n",
       "ROUTT           11\n",
       "HUERFANO        10\n",
       "LOGAN            8\n",
       "PHILLIPS         8\n",
       "SEDGWICK         6\n",
       "ELBERT           5\n",
       "LARIMER          5\n",
       "LAS ANIMAS       5\n",
       "KIOWA            4\n",
       "SAN MIGUEL       3\n",
       "FREMONT          2\n",
       "DOLORES          2\n",
       "CROWLEY          2\n",
       "BACA             2\n",
       "JEFFERSON        1\n",
       "DELTA            1\n",
       "RIO GRANDE       1\n",
       "PROWERS          1\n",
       "PITKIN           1\n",
       "Name: operator_name, dtype: int64"
      ]
     },
     "execution_count": 12,
     "metadata": {},
     "output_type": "execute_result"
    }
   ],
   "source": [
    "# Getting number of wells by County\n",
    "df_wells.groupby('county').count()['operator_name'].sort_values(axis=0, ascending=False)"
   ]
  },
  {
   "cell_type": "code",
   "execution_count": 15,
   "metadata": {
    "collapsed": true
   },
   "outputs": [],
   "source": [
    "def line_plot(df, column):\n",
    "    # Creating line plot\n",
    "    \n",
    "    # Setting up display parameters\n",
    "    mpl.rc('xtick', labelsize=12)\n",
    "    mpl.rc('ytick', labelsize=12)\n",
    "    mpl.rcParams.update({'font.size': 15})\n",
    "\n",
    "    # Plotting Day vs. Average Number of Patients\n",
    "    x = df.groupby(column).count().index\n",
    "    y = df.groupby(column).count()['county']\n",
    "\n",
    "    fig=plt.figure(figsize=(15,7));\n",
    "    ax=fig.add_subplot(111);\n",
    "    ax.plot(x, y, color='b', linewidth=1.5);\n",
    "    plt.xticks(rotation='vertical');"
   ]
  },
  {
   "cell_type": "code",
   "execution_count": 19,
   "metadata": {},
   "outputs": [
    {
     "data": {
      "text/plain": [
       "Index([u'2002-04-11', u'2004-02-02', u'2004-02-24', u'2004-10-05',\n",
       "       u'2004-10-08', u'2005-05-27', u'2005-07-21', u'2005-11-16',\n",
       "       u'2006-01-26', u'2006-02-16',\n",
       "       ...\n",
       "       u'2017-08-07', u'2017-08-11', u'2017-08-14', u'2017-08-15',\n",
       "       u'2017-08-18', u'2017-08-20', u'2017-08-23', u'2017-08-24',\n",
       "       u'2017-08-25', u'2017-08-28'],\n",
       "      dtype='object', name=u'status', length=929)"
      ]
     },
     "execution_count": 19,
     "metadata": {},
     "output_type": "execute_result"
    }
   ],
   "source": [
    "df_wells.groupby('status').count()['county'].index"
   ]
  },
  {
   "cell_type": "code",
   "execution_count": 16,
   "metadata": {},
   "outputs": [
    {
     "ename": "ValueError",
     "evalue": "invalid literal for float(): 2017-08-28",
     "output_type": "error",
     "traceback": [
      "\u001b[0;31m---------------------------------------------------------------------------\u001b[0m",
      "\u001b[0;31mValueError\u001b[0m                                Traceback (most recent call last)",
      "\u001b[0;32m<ipython-input-16-97c7a32314b7>\u001b[0m in \u001b[0;36m<module>\u001b[0;34m()\u001b[0m\n\u001b[1;32m      1\u001b[0m \u001b[0;31m# Plotting the number Number of permits approved per Day in Colorado\u001b[0m\u001b[0;34m\u001b[0m\u001b[0;34m\u001b[0m\u001b[0m\n\u001b[0;32m----> 2\u001b[0;31m \u001b[0mline_plot\u001b[0m\u001b[0;34m(\u001b[0m\u001b[0mdf_wells\u001b[0m\u001b[0;34m,\u001b[0m \u001b[0;34m'status'\u001b[0m\u001b[0;34m)\u001b[0m\u001b[0;34m\u001b[0m\u001b[0m\n\u001b[0m\u001b[1;32m      3\u001b[0m \u001b[0mplt\u001b[0m\u001b[0;34m.\u001b[0m\u001b[0mtitle\u001b[0m\u001b[0;34m(\u001b[0m\u001b[0;34m\"Number of CO Drilling Permits Approved per Day\\n\"\u001b[0m\u001b[0;34m)\u001b[0m\u001b[0;34m;\u001b[0m\u001b[0;34m\u001b[0m\u001b[0m\n\u001b[1;32m      4\u001b[0m \u001b[0mplt\u001b[0m\u001b[0;34m.\u001b[0m\u001b[0mxlabel\u001b[0m\u001b[0;34m(\u001b[0m\u001b[0;34m'\\nDate'\u001b[0m\u001b[0;34m)\u001b[0m\u001b[0;34m;\u001b[0m\u001b[0;34m\u001b[0m\u001b[0m\n\u001b[1;32m      5\u001b[0m \u001b[0mplt\u001b[0m\u001b[0;34m.\u001b[0m\u001b[0mylabel\u001b[0m\u001b[0;34m(\u001b[0m\u001b[0;34m'Number of Applications'\u001b[0m\u001b[0;34m)\u001b[0m\u001b[0;34m;\u001b[0m\u001b[0;34m\u001b[0m\u001b[0m\n",
      "\u001b[0;32m<ipython-input-15-02f248f93afe>\u001b[0m in \u001b[0;36mline_plot\u001b[0;34m(df, column)\u001b[0m\n\u001b[1;32m     13\u001b[0m     \u001b[0mfig\u001b[0m\u001b[0;34m=\u001b[0m\u001b[0mplt\u001b[0m\u001b[0;34m.\u001b[0m\u001b[0mfigure\u001b[0m\u001b[0;34m(\u001b[0m\u001b[0mfigsize\u001b[0m\u001b[0;34m=\u001b[0m\u001b[0;34m(\u001b[0m\u001b[0;36m15\u001b[0m\u001b[0;34m,\u001b[0m\u001b[0;36m7\u001b[0m\u001b[0;34m)\u001b[0m\u001b[0;34m)\u001b[0m\u001b[0;34m;\u001b[0m\u001b[0;34m\u001b[0m\u001b[0m\n\u001b[1;32m     14\u001b[0m     \u001b[0max\u001b[0m\u001b[0;34m=\u001b[0m\u001b[0mfig\u001b[0m\u001b[0;34m.\u001b[0m\u001b[0madd_subplot\u001b[0m\u001b[0;34m(\u001b[0m\u001b[0;36m111\u001b[0m\u001b[0;34m)\u001b[0m\u001b[0;34m;\u001b[0m\u001b[0;34m\u001b[0m\u001b[0m\n\u001b[0;32m---> 15\u001b[0;31m     \u001b[0max\u001b[0m\u001b[0;34m.\u001b[0m\u001b[0mplot\u001b[0m\u001b[0;34m(\u001b[0m\u001b[0mx\u001b[0m\u001b[0;34m,\u001b[0m \u001b[0my\u001b[0m\u001b[0;34m,\u001b[0m \u001b[0mcolor\u001b[0m\u001b[0;34m=\u001b[0m\u001b[0;34m'b'\u001b[0m\u001b[0;34m,\u001b[0m \u001b[0mlinewidth\u001b[0m\u001b[0;34m=\u001b[0m\u001b[0;36m1.5\u001b[0m\u001b[0;34m)\u001b[0m\u001b[0;34m;\u001b[0m\u001b[0;34m\u001b[0m\u001b[0m\n\u001b[0m\u001b[1;32m     16\u001b[0m     \u001b[0mplt\u001b[0m\u001b[0;34m.\u001b[0m\u001b[0mxticks\u001b[0m\u001b[0;34m(\u001b[0m\u001b[0mrotation\u001b[0m\u001b[0;34m=\u001b[0m\u001b[0;34m'vertical'\u001b[0m\u001b[0;34m)\u001b[0m\u001b[0;34m;\u001b[0m\u001b[0;34m\u001b[0m\u001b[0m\n",
      "\u001b[0;32m/home/griggs/anaconda2/lib/python2.7/site-packages/matplotlib/__init__.pyc\u001b[0m in \u001b[0;36minner\u001b[0;34m(ax, *args, **kwargs)\u001b[0m\n\u001b[1;32m   1817\u001b[0m                     warnings.warn(msg % (label_namer, func.__name__),\n\u001b[1;32m   1818\u001b[0m                                   RuntimeWarning, stacklevel=2)\n\u001b[0;32m-> 1819\u001b[0;31m             \u001b[0;32mreturn\u001b[0m \u001b[0mfunc\u001b[0m\u001b[0;34m(\u001b[0m\u001b[0max\u001b[0m\u001b[0;34m,\u001b[0m \u001b[0;34m*\u001b[0m\u001b[0margs\u001b[0m\u001b[0;34m,\u001b[0m \u001b[0;34m**\u001b[0m\u001b[0mkwargs\u001b[0m\u001b[0;34m)\u001b[0m\u001b[0;34m\u001b[0m\u001b[0m\n\u001b[0m\u001b[1;32m   1820\u001b[0m         \u001b[0mpre_doc\u001b[0m \u001b[0;34m=\u001b[0m \u001b[0minner\u001b[0m\u001b[0;34m.\u001b[0m\u001b[0m__doc__\u001b[0m\u001b[0;34m\u001b[0m\u001b[0m\n\u001b[1;32m   1821\u001b[0m         \u001b[0;32mif\u001b[0m \u001b[0mpre_doc\u001b[0m \u001b[0;32mis\u001b[0m \u001b[0mNone\u001b[0m\u001b[0;34m:\u001b[0m\u001b[0;34m\u001b[0m\u001b[0m\n",
      "\u001b[0;32m/home/griggs/anaconda2/lib/python2.7/site-packages/matplotlib/axes/_axes.pyc\u001b[0m in \u001b[0;36mplot\u001b[0;34m(self, *args, **kwargs)\u001b[0m\n\u001b[1;32m   1381\u001b[0m \u001b[0;34m\u001b[0m\u001b[0m\n\u001b[1;32m   1382\u001b[0m         \u001b[0;32mfor\u001b[0m \u001b[0mline\u001b[0m \u001b[0;32min\u001b[0m \u001b[0mself\u001b[0m\u001b[0;34m.\u001b[0m\u001b[0m_get_lines\u001b[0m\u001b[0;34m(\u001b[0m\u001b[0;34m*\u001b[0m\u001b[0margs\u001b[0m\u001b[0;34m,\u001b[0m \u001b[0;34m**\u001b[0m\u001b[0mkwargs\u001b[0m\u001b[0;34m)\u001b[0m\u001b[0;34m:\u001b[0m\u001b[0;34m\u001b[0m\u001b[0m\n\u001b[0;32m-> 1383\u001b[0;31m             \u001b[0mself\u001b[0m\u001b[0;34m.\u001b[0m\u001b[0madd_line\u001b[0m\u001b[0;34m(\u001b[0m\u001b[0mline\u001b[0m\u001b[0;34m)\u001b[0m\u001b[0;34m\u001b[0m\u001b[0m\n\u001b[0m\u001b[1;32m   1384\u001b[0m             \u001b[0mlines\u001b[0m\u001b[0;34m.\u001b[0m\u001b[0mappend\u001b[0m\u001b[0;34m(\u001b[0m\u001b[0mline\u001b[0m\u001b[0;34m)\u001b[0m\u001b[0;34m\u001b[0m\u001b[0m\n\u001b[1;32m   1385\u001b[0m \u001b[0;34m\u001b[0m\u001b[0m\n",
      "\u001b[0;32m/home/griggs/anaconda2/lib/python2.7/site-packages/matplotlib/axes/_base.pyc\u001b[0m in \u001b[0;36madd_line\u001b[0;34m(self, line)\u001b[0m\n\u001b[1;32m   1701\u001b[0m             \u001b[0mline\u001b[0m\u001b[0;34m.\u001b[0m\u001b[0mset_clip_path\u001b[0m\u001b[0;34m(\u001b[0m\u001b[0mself\u001b[0m\u001b[0;34m.\u001b[0m\u001b[0mpatch\u001b[0m\u001b[0;34m)\u001b[0m\u001b[0;34m\u001b[0m\u001b[0m\n\u001b[1;32m   1702\u001b[0m \u001b[0;34m\u001b[0m\u001b[0m\n\u001b[0;32m-> 1703\u001b[0;31m         \u001b[0mself\u001b[0m\u001b[0;34m.\u001b[0m\u001b[0m_update_line_limits\u001b[0m\u001b[0;34m(\u001b[0m\u001b[0mline\u001b[0m\u001b[0;34m)\u001b[0m\u001b[0;34m\u001b[0m\u001b[0m\n\u001b[0m\u001b[1;32m   1704\u001b[0m         \u001b[0;32mif\u001b[0m \u001b[0;32mnot\u001b[0m \u001b[0mline\u001b[0m\u001b[0;34m.\u001b[0m\u001b[0mget_label\u001b[0m\u001b[0;34m(\u001b[0m\u001b[0;34m)\u001b[0m\u001b[0;34m:\u001b[0m\u001b[0;34m\u001b[0m\u001b[0m\n\u001b[1;32m   1705\u001b[0m             \u001b[0mline\u001b[0m\u001b[0;34m.\u001b[0m\u001b[0mset_label\u001b[0m\u001b[0;34m(\u001b[0m\u001b[0;34m'_line%d'\u001b[0m \u001b[0;34m%\u001b[0m \u001b[0mlen\u001b[0m\u001b[0;34m(\u001b[0m\u001b[0mself\u001b[0m\u001b[0;34m.\u001b[0m\u001b[0mlines\u001b[0m\u001b[0;34m)\u001b[0m\u001b[0;34m)\u001b[0m\u001b[0;34m\u001b[0m\u001b[0m\n",
      "\u001b[0;32m/home/griggs/anaconda2/lib/python2.7/site-packages/matplotlib/axes/_base.pyc\u001b[0m in \u001b[0;36m_update_line_limits\u001b[0;34m(self, line)\u001b[0m\n\u001b[1;32m   1723\u001b[0m         \u001b[0mFigures\u001b[0m \u001b[0mout\u001b[0m \u001b[0mthe\u001b[0m \u001b[0mdata\u001b[0m \u001b[0mlimit\u001b[0m \u001b[0mof\u001b[0m \u001b[0mthe\u001b[0m \u001b[0mgiven\u001b[0m \u001b[0mline\u001b[0m\u001b[0;34m,\u001b[0m \u001b[0mupdating\u001b[0m \u001b[0mself\u001b[0m\u001b[0;34m.\u001b[0m\u001b[0mdataLim\u001b[0m\u001b[0;34m.\u001b[0m\u001b[0;34m\u001b[0m\u001b[0m\n\u001b[1;32m   1724\u001b[0m         \"\"\"\n\u001b[0;32m-> 1725\u001b[0;31m         \u001b[0mpath\u001b[0m \u001b[0;34m=\u001b[0m \u001b[0mline\u001b[0m\u001b[0;34m.\u001b[0m\u001b[0mget_path\u001b[0m\u001b[0;34m(\u001b[0m\u001b[0;34m)\u001b[0m\u001b[0;34m\u001b[0m\u001b[0m\n\u001b[0m\u001b[1;32m   1726\u001b[0m         \u001b[0;32mif\u001b[0m \u001b[0mpath\u001b[0m\u001b[0;34m.\u001b[0m\u001b[0mvertices\u001b[0m\u001b[0;34m.\u001b[0m\u001b[0msize\u001b[0m \u001b[0;34m==\u001b[0m \u001b[0;36m0\u001b[0m\u001b[0;34m:\u001b[0m\u001b[0;34m\u001b[0m\u001b[0m\n\u001b[1;32m   1727\u001b[0m             \u001b[0;32mreturn\u001b[0m\u001b[0;34m\u001b[0m\u001b[0m\n",
      "\u001b[0;32m/home/griggs/anaconda2/lib/python2.7/site-packages/matplotlib/lines.pyc\u001b[0m in \u001b[0;36mget_path\u001b[0;34m(self)\u001b[0m\n\u001b[1;32m    936\u001b[0m         \"\"\"\n\u001b[1;32m    937\u001b[0m         \u001b[0;32mif\u001b[0m \u001b[0mself\u001b[0m\u001b[0;34m.\u001b[0m\u001b[0m_invalidy\u001b[0m \u001b[0;32mor\u001b[0m \u001b[0mself\u001b[0m\u001b[0;34m.\u001b[0m\u001b[0m_invalidx\u001b[0m\u001b[0;34m:\u001b[0m\u001b[0;34m\u001b[0m\u001b[0m\n\u001b[0;32m--> 938\u001b[0;31m             \u001b[0mself\u001b[0m\u001b[0;34m.\u001b[0m\u001b[0mrecache\u001b[0m\u001b[0;34m(\u001b[0m\u001b[0;34m)\u001b[0m\u001b[0;34m\u001b[0m\u001b[0m\n\u001b[0m\u001b[1;32m    939\u001b[0m         \u001b[0;32mreturn\u001b[0m \u001b[0mself\u001b[0m\u001b[0;34m.\u001b[0m\u001b[0m_path\u001b[0m\u001b[0;34m\u001b[0m\u001b[0m\n\u001b[1;32m    940\u001b[0m \u001b[0;34m\u001b[0m\u001b[0m\n",
      "\u001b[0;32m/home/griggs/anaconda2/lib/python2.7/site-packages/matplotlib/lines.pyc\u001b[0m in \u001b[0;36mrecache\u001b[0;34m(self, always)\u001b[0m\n\u001b[1;32m    623\u001b[0m                 \u001b[0mx\u001b[0m \u001b[0;34m=\u001b[0m \u001b[0mma\u001b[0m\u001b[0;34m.\u001b[0m\u001b[0masarray\u001b[0m\u001b[0;34m(\u001b[0m\u001b[0mxconv\u001b[0m\u001b[0;34m,\u001b[0m \u001b[0mnp\u001b[0m\u001b[0;34m.\u001b[0m\u001b[0mfloat_\u001b[0m\u001b[0;34m)\u001b[0m\u001b[0;34m.\u001b[0m\u001b[0mfilled\u001b[0m\u001b[0;34m(\u001b[0m\u001b[0mnp\u001b[0m\u001b[0;34m.\u001b[0m\u001b[0mnan\u001b[0m\u001b[0;34m)\u001b[0m\u001b[0;34m\u001b[0m\u001b[0m\n\u001b[1;32m    624\u001b[0m             \u001b[0;32melse\u001b[0m\u001b[0;34m:\u001b[0m\u001b[0;34m\u001b[0m\u001b[0m\n\u001b[0;32m--> 625\u001b[0;31m                 \u001b[0mx\u001b[0m \u001b[0;34m=\u001b[0m \u001b[0mnp\u001b[0m\u001b[0;34m.\u001b[0m\u001b[0masarray\u001b[0m\u001b[0;34m(\u001b[0m\u001b[0mxconv\u001b[0m\u001b[0;34m,\u001b[0m \u001b[0mnp\u001b[0m\u001b[0;34m.\u001b[0m\u001b[0mfloat_\u001b[0m\u001b[0;34m)\u001b[0m\u001b[0;34m\u001b[0m\u001b[0m\n\u001b[0m\u001b[1;32m    626\u001b[0m             \u001b[0mx\u001b[0m \u001b[0;34m=\u001b[0m \u001b[0mx\u001b[0m\u001b[0;34m.\u001b[0m\u001b[0mravel\u001b[0m\u001b[0;34m(\u001b[0m\u001b[0;34m)\u001b[0m\u001b[0;34m\u001b[0m\u001b[0m\n\u001b[1;32m    627\u001b[0m         \u001b[0;32melse\u001b[0m\u001b[0;34m:\u001b[0m\u001b[0;34m\u001b[0m\u001b[0m\n",
      "\u001b[0;32m/home/griggs/anaconda2/lib/python2.7/site-packages/numpy/core/numeric.pyc\u001b[0m in \u001b[0;36masarray\u001b[0;34m(a, dtype, order)\u001b[0m\n\u001b[1;32m    529\u001b[0m \u001b[0;34m\u001b[0m\u001b[0m\n\u001b[1;32m    530\u001b[0m     \"\"\"\n\u001b[0;32m--> 531\u001b[0;31m     \u001b[0;32mreturn\u001b[0m \u001b[0marray\u001b[0m\u001b[0;34m(\u001b[0m\u001b[0ma\u001b[0m\u001b[0;34m,\u001b[0m \u001b[0mdtype\u001b[0m\u001b[0;34m,\u001b[0m \u001b[0mcopy\u001b[0m\u001b[0;34m=\u001b[0m\u001b[0mFalse\u001b[0m\u001b[0;34m,\u001b[0m \u001b[0morder\u001b[0m\u001b[0;34m=\u001b[0m\u001b[0morder\u001b[0m\u001b[0;34m)\u001b[0m\u001b[0;34m\u001b[0m\u001b[0m\n\u001b[0m\u001b[1;32m    532\u001b[0m \u001b[0;34m\u001b[0m\u001b[0m\n\u001b[1;32m    533\u001b[0m \u001b[0;34m\u001b[0m\u001b[0m\n",
      "\u001b[0;31mValueError\u001b[0m: invalid literal for float(): 2017-08-28"
     ]
    },
    {
     "data": {
      "image/png": "[encoded data removed]",
      "text/plain": [
       "<matplotlib.figure.Figure at 0x7f97b942ba90>"
      ]
     },
     "metadata": {},
     "output_type": "display_data"
    }
   ],
   "source": [
    "# Plotting the number Number of permits approved per Day in Colorado\n",
    "line_plot(df_wells, 'status')\n",
    "plt.title(\"Number of CO Drilling Permits Approved per Day\\n\");\n",
    "plt.xlabel('\\nDate');\n",
    "plt.ylabel('Number of Applications');"
   ]
  },
  {
   "cell_type": "code",
   "execution_count": null,
   "metadata": {
    "collapsed": true
   },
   "outputs": [],
   "source": []
  },
  {
   "cell_type": "code",
   "execution_count": null,
   "metadata": {
    "collapsed": true
   },
   "outputs": [],
   "source": []
  },
  {
   "cell_type": "code",
   "execution_count": null,
   "metadata": {
    "collapsed": true
   },
   "outputs": [],
   "source": []
  },
  {
   "cell_type": "code",
   "execution_count": null,
   "metadata": {
    "collapsed": true
   },
   "outputs": [],
   "source": []
  },
  {
   "cell_type": "code",
   "execution_count": null,
   "metadata": {
    "collapsed": true
   },
   "outputs": [],
   "source": []
  },
  {
   "cell_type": "code",
   "execution_count": null,
   "metadata": {
    "collapsed": true
   },
   "outputs": [],
   "source": []
  }
 ],
 "metadata": {
  "anaconda-cloud": {},
  "kernelspec": {
   "display_name": "Python [conda root]",
   "language": "python",
   "name": "conda-root-py"
  },
  "language_info": {
   "codemirror_mode": {
    "name": "ipython",
    "version": 2
   },
   "file_extension": ".py",
   "mimetype": "text/x-python",
   "name": "python",
   "nbconvert_exporter": "python",
   "pygments_lexer": "ipython2",
   "version": "2.7.12"
  }
 },
 "nbformat": 4,
 "nbformat_minor": 2
}
