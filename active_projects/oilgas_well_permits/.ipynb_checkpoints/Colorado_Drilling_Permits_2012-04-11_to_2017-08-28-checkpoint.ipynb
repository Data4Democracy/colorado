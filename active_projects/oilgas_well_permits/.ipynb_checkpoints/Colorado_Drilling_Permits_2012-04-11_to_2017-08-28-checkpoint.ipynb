{
 "cells": [
  {
   "cell_type": "markdown",
   "metadata": {},
   "source": [
    "## Colorado Oil & Gas Drilling Permits\n",
    "##### Investigating how the number of Drilling permits changed over the past year (June 2016-June 2017)\n",
    "\n",
    "* Has the new administration had an effect on the permit approval process?\n",
    "* Has the number of permit requests increased?"
   ]
  },
  {
   "cell_type": "code",
   "execution_count": 20,
   "metadata": {
    "collapsed": true
   },
   "outputs": [],
   "source": [
    "from __future__ import division\n",
    "import pandas as pd\n",
    "import numpy as np\n",
    "from datetime import timedelta\n",
    "import pymc3 as pm\n",
    "import theano.tensor as tt\n",
    "import matplotlib.pyplot as plt\n",
    "import matplotlib as mpl\n",
    "from pylab import rcParams\n",
    "%matplotlib inline"
   ]
  },
  {
   "cell_type": "markdown",
   "metadata": {},
   "source": [
    "#### Data Import"
   ]
  },
  {
   "cell_type": "code",
   "execution_count": 21,
   "metadata": {},
   "outputs": [
    {
     "data": {
      "text/html": [
       "<div>\n",
       "<table border=\"1\" class=\"dataframe\">\n",
       "  <thead>\n",
       "    <tr style=\"text-align: right;\">\n",
       "      <th></th>\n",
       "      <th>Unnamed: 0</th>\n",
       "      <th>facility_id_API</th>\n",
       "      <th>facility_type</th>\n",
       "      <th>status</th>\n",
       "      <th>facility_name</th>\n",
       "      <th>facility_num</th>\n",
       "      <th>field_name</th>\n",
       "      <th>field_num</th>\n",
       "      <th>county</th>\n",
       "      <th>coord</th>\n",
       "      <th>operator_name</th>\n",
       "      <th>operator_num</th>\n",
       "    </tr>\n",
       "  </thead>\n",
       "  <tbody>\n",
       "    <tr>\n",
       "      <th>34464</th>\n",
       "      <td>34464</td>\n",
       "      <td>05-067-08329</td>\n",
       "      <td>WELL</td>\n",
       "      <td>5/9/2000</td>\n",
       "      <td>RONALD REA</td>\n",
       "      <td>2</td>\n",
       "      <td>IGNACIO BLANCO</td>\n",
       "      <td>38300.0</td>\n",
       "      <td>LA PLATA</td>\n",
       "      <td>067SWSE   32 34N   8W      M</td>\n",
       "      <td>BP AMERICA PRODUCTION COMPANY</td>\n",
       "      <td>10000.0</td>\n",
       "    </tr>\n",
       "    <tr>\n",
       "      <th>45041</th>\n",
       "      <td>45041</td>\n",
       "      <td>05-077-09841</td>\n",
       "      <td>WELL</td>\n",
       "      <td>2/12/2013</td>\n",
       "      <td>NBC</td>\n",
       "      <td>17-123</td>\n",
       "      <td>BUZZARD CREEK</td>\n",
       "      <td>9500.0</td>\n",
       "      <td>MESA</td>\n",
       "      <td>077NENW   17 9S    93W     6</td>\n",
       "      <td>LARAMIE ENERGY LLC</td>\n",
       "      <td>10433.0</td>\n",
       "    </tr>\n",
       "    <tr>\n",
       "      <th>61467</th>\n",
       "      <td>61467</td>\n",
       "      <td>05-103-12094</td>\n",
       "      <td>WELL</td>\n",
       "      <td>3/15/2016</td>\n",
       "      <td>FEDERAL</td>\n",
       "      <td>RGU 321-26-198</td>\n",
       "      <td>SULPHUR CREEK</td>\n",
       "      <td>80090.0</td>\n",
       "      <td>RIO BLANCO</td>\n",
       "      <td>103Lot 4  26 1S    98W     6</td>\n",
       "      <td>TEP ROCKY MOUNTAIN LLC</td>\n",
       "      <td>96850.0</td>\n",
       "    </tr>\n",
       "    <tr>\n",
       "      <th>10522</th>\n",
       "      <td>10522</td>\n",
       "      <td>05-029-06060</td>\n",
       "      <td>WELL</td>\n",
       "      <td>4/29/2001</td>\n",
       "      <td>CHILDRESS, CHARLIE</td>\n",
       "      <td>1</td>\n",
       "      <td>CRAWFORD</td>\n",
       "      <td>13555.0</td>\n",
       "      <td>DELTA</td>\n",
       "      <td>029NWNE   7  51N   6W      N</td>\n",
       "      <td>ZIEGLER* ROBERT P.</td>\n",
       "      <td>98393.0</td>\n",
       "    </tr>\n",
       "    <tr>\n",
       "      <th>71868</th>\n",
       "      <td>71868</td>\n",
       "      <td>05-123-39503</td>\n",
       "      <td>WELL</td>\n",
       "      <td>12/5/2016</td>\n",
       "      <td>Ruh</td>\n",
       "      <td>6-62-11-0263CH2</td>\n",
       "      <td>WATTENBERG</td>\n",
       "      <td>90750.0</td>\n",
       "      <td>WELD</td>\n",
       "      <td>123NWNW   11 6N    62W     6</td>\n",
       "      <td>BARRETT CORPORATION* BILL</td>\n",
       "      <td>10071.0</td>\n",
       "    </tr>\n",
       "  </tbody>\n",
       "</table>\n",
       "</div>"
      ],
      "text/plain": [
       "       Unnamed: 0 facility_id_API facility_type     status  \\\n",
       "34464       34464    05-067-08329          WELL   5/9/2000   \n",
       "45041       45041    05-077-09841          WELL  2/12/2013   \n",
       "61467       61467    05-103-12094          WELL  3/15/2016   \n",
       "10522       10522    05-029-06060          WELL  4/29/2001   \n",
       "71868       71868    05-123-39503          WELL  12/5/2016   \n",
       "\n",
       "            facility_name     facility_num      field_name  field_num  \\\n",
       "34464          RONALD REA                2  IGNACIO BLANCO    38300.0   \n",
       "45041                 NBC           17-123   BUZZARD CREEK     9500.0   \n",
       "61467             FEDERAL   RGU 321-26-198   SULPHUR CREEK    80090.0   \n",
       "10522  CHILDRESS, CHARLIE                1        CRAWFORD    13555.0   \n",
       "71868                 Ruh  6-62-11-0263CH2      WATTENBERG    90750.0   \n",
       "\n",
       "           county                           coord  \\\n",
       "34464    LA PLATA   067SWSE   32 34N   8W      M    \n",
       "45041        MESA   077NENW   17 9S    93W     6    \n",
       "61467  RIO BLANCO   103Lot 4  26 1S    98W     6    \n",
       "10522       DELTA   029NWNE   7  51N   6W      N    \n",
       "71868        WELD   123NWNW   11 6N    62W     6    \n",
       "\n",
       "                       operator_name  operator_num  \n",
       "34464  BP AMERICA PRODUCTION COMPANY       10000.0  \n",
       "45041             LARAMIE ENERGY LLC       10433.0  \n",
       "61467         TEP ROCKY MOUNTAIN LLC       96850.0  \n",
       "10522             ZIEGLER* ROBERT P.       98393.0  \n",
       "71868      BARRETT CORPORATION* BILL       10071.0  "
      ]
     },
     "execution_count": 21,
     "metadata": {},
     "output_type": "execute_result"
    }
   ],
   "source": [
    "# Import Colorado Oil & Gas Well permits approved 4/11/2012 - 8/28/2017\n",
    "# http://cogcc.state.co.us/data.html#/cogis\n",
    "df_wells = pd.read_csv(\"data/older_well_permits_clean.csv\")\n",
    "\n",
    "df_wells.sample(5)"
   ]
  },
  {
   "cell_type": "code",
   "execution_count": 22,
   "metadata": {},
   "outputs": [
    {
     "data": {
      "text/html": [
       "<div>\n",
       "<table border=\"1\" class=\"dataframe\">\n",
       "  <thead>\n",
       "    <tr style=\"text-align: right;\">\n",
       "      <th></th>\n",
       "      <th>Unnamed: 0</th>\n",
       "      <th>field_num</th>\n",
       "      <th>operator_num</th>\n",
       "    </tr>\n",
       "  </thead>\n",
       "  <tbody>\n",
       "    <tr>\n",
       "      <th>count</th>\n",
       "      <td>107257.000000</td>\n",
       "      <td>107129.000000</td>\n",
       "      <td>1.070260e+05</td>\n",
       "    </tr>\n",
       "    <tr>\n",
       "      <th>mean</th>\n",
       "      <td>53628.000000</td>\n",
       "      <td>69798.895462</td>\n",
       "      <td>5.079957e+04</td>\n",
       "    </tr>\n",
       "    <tr>\n",
       "      <th>std</th>\n",
       "      <td>30962.573248</td>\n",
       "      <td>29933.900957</td>\n",
       "      <td>3.787345e+04</td>\n",
       "    </tr>\n",
       "    <tr>\n",
       "      <th>min</th>\n",
       "      <td>0.000000</td>\n",
       "      <td>150.000000</td>\n",
       "      <td>1.000000e+00</td>\n",
       "    </tr>\n",
       "    <tr>\n",
       "      <th>25%</th>\n",
       "      <td>26814.000000</td>\n",
       "      <td>NaN</td>\n",
       "      <td>NaN</td>\n",
       "    </tr>\n",
       "    <tr>\n",
       "      <th>50%</th>\n",
       "      <td>53628.000000</td>\n",
       "      <td>NaN</td>\n",
       "      <td>NaN</td>\n",
       "    </tr>\n",
       "    <tr>\n",
       "      <th>75%</th>\n",
       "      <td>80442.000000</td>\n",
       "      <td>NaN</td>\n",
       "      <td>NaN</td>\n",
       "    </tr>\n",
       "    <tr>\n",
       "      <th>max</th>\n",
       "      <td>107256.000000</td>\n",
       "      <td>99999.000000</td>\n",
       "      <td>1.001006e+06</td>\n",
       "    </tr>\n",
       "  </tbody>\n",
       "</table>\n",
       "</div>"
      ],
      "text/plain": [
       "          Unnamed: 0      field_num  operator_num\n",
       "count  107257.000000  107129.000000  1.070260e+05\n",
       "mean    53628.000000   69798.895462  5.079957e+04\n",
       "std     30962.573248   29933.900957  3.787345e+04\n",
       "min         0.000000     150.000000  1.000000e+00\n",
       "25%     26814.000000            NaN           NaN\n",
       "50%     53628.000000            NaN           NaN\n",
       "75%     80442.000000            NaN           NaN\n",
       "max    107256.000000   99999.000000  1.001006e+06"
      ]
     },
     "execution_count": 22,
     "metadata": {},
     "output_type": "execute_result"
    }
   ],
   "source": [
    "df_wells.describe()"
   ]
  },
  {
   "cell_type": "code",
   "execution_count": 23,
   "metadata": {},
   "outputs": [
    {
     "name": "stdout",
     "output_type": "stream",
     "text": [
      "Min date of permitted wells: inf\n",
      "Max date of permitted wells: 9/9/2016\n"
     ]
    }
   ],
   "source": [
    "print(\"Min date of permitted wells: {}\".format(df_wells['status'].min()))\n",
    "print(\"Max date of permitted wells: {}\".format(df_wells['status'].max()))"
   ]
  },
  {
   "cell_type": "code",
   "execution_count": 24,
   "metadata": {},
   "outputs": [
    {
     "data": {
      "text/plain": [
       "operator_name\n",
       "KERR MCGEE OIL & GAS ONSHORE LP               8203\n",
       "NOBLE ENERGY INC                              7484\n",
       "TEP ROCKY MOUNTAIN LLC                        5950\n",
       "ENCANA OIL & GAS (USA) INC                    4834\n",
       "PDC ENERGY INC                                3258\n",
       "PIONEER NATURAL RESOURCES USA INC             2800\n",
       "CRESTONE PEAK RESOURCES OPERATING LLC         1811\n",
       "LARAMIE ENERGY LLC                            1738\n",
       "FOUNDATION ENERGY MANAGEMENT LLC              1729\n",
       "BP AMERICA PRODUCTION COMPANY                 1540\n",
       "CHEVRON USA INC                               1535\n",
       "XTO ENERGY INC                                1324\n",
       "K P KAUFFMAN COMPANY INC                      1321\n",
       "VANGUARD OPERATING LLC                        1133\n",
       "ROSEWOOD RESOURCES INC                        1072\n",
       "AUGUSTUS ENERGY RESOURCES LLC                 1039\n",
       "BONANZA CREEK ENERGY OPERATING COMPANY LLC    1037\n",
       "EXTRACTION OIL & GAS INC                      1006\n",
       "UNKNOWN                                       1004\n",
       "CAERUS PICEANCE LLC                            962\n",
       "WHITING OIL & GAS CORPORATION                  931\n",
       "URSA OPERATING COMPANY LLC                     918\n",
       "GREAT WESTERN OPERATING COMPANY LLC            893\n",
       "RED WILLOW PRODUCTION COMPANY                  773\n",
       "BERRY PETROLEUM COMPANY LLC                    723\n",
       "ANADARKO E&P ONSHORE LLC                       705\n",
       "BARRETT CORPORATION* BILL                      699\n",
       "UTAH GAS OP LTD DBA UTAH GAS CORP              674\n",
       "SRC ENERGY INC                                 586\n",
       "AMOCO PRODUCTION COMPANY                       540\n",
       "                                              ... \n",
       "LRTC INCORPORATED                                1\n",
       "LYSANDER RESOURCES                               1\n",
       "M & T INC                                        1\n",
       "LECADA NATURAL GAS COMPANY                       1\n",
       "LAWSON-RIDGEWAY                                  1\n",
       "KIRSCHNER OIL COMPANY INC                        1\n",
       "L & O DRILLING CO INC                            1\n",
       "KIT CARSON ENERGY CORP                           1\n",
       "KKB ENERGY, LLC                                  1\n",
       "KLIPP* J E                                       1\n",
       "KLOXIN ENERGY INC                                1\n",
       "KN NATURAL GAS INC                               1\n",
       "KNOTT* BILLY J.                                  1\n",
       "KOCH* DELBERT                                    1\n",
       "KODIAK PETROLEUM INC                             1\n",
       "KRUEGER* MAX L                                   1\n",
       "L & B OIL COMPANY(LESLIE & BETTY SESSIONS)       1\n",
       "L B EXPLORATION INC                              1\n",
       "LATTNER* FORREST C.                              1\n",
       "LA PLATA OIL & GAS, INC                          1\n",
       "LABECO OPERATING COMPANY                         1\n",
       "LADD & LEWIS                                     1\n",
       "LAFFERTY* R.F.                                   1\n",
       "LAGUNA PETROLEUM COMPANY                         1\n",
       "LAMAR OIL & GAS INC                              1\n",
       "LARAMIDE CORP                                    1\n",
       "LARUE* E.B.                                      1\n",
       "LAS ANIMAS OIL & GAS                             1\n",
       "LAS COLINAS OIL CORP                             1\n",
       "13 ENTERPRISES LLC                               1\n",
       "Name: county, dtype: int64"
      ]
     },
     "execution_count": 24,
     "metadata": {},
     "output_type": "execute_result"
    }
   ],
   "source": [
    "# Getting listing of Companies with most well permits approved in this time period\n",
    "df_wells.groupby('operator_name').count()['county'].sort_values(axis=0, ascending=False)"
   ]
  },
  {
   "cell_type": "code",
   "execution_count": 25,
   "metadata": {},
   "outputs": [
    {
     "data": {
      "text/plain": [
       "county\n",
       "WELD          32625\n",
       "GARFIELD      15631\n",
       "RIO BLANCO     6937\n",
       "YUMA           6233\n",
       "WASHINGTON     5765\n",
       "LA PLATA       4549\n",
       "ADAMS          4396\n",
       "LAS ANIMAS     3987\n",
       "LOGAN          3922\n",
       "MORGAN         3026\n",
       "MESA           2633\n",
       "MOFFAT         2267\n",
       "CHEYENNE       1808\n",
       "ARAPAHOE       1340\n",
       "MONTEZUMA      1070\n",
       "KIOWA           986\n",
       "BACA            956\n",
       "BOULDER         784\n",
       "LINCOLN         780\n",
       "JACKSON         759\n",
       "LARIMER         731\n",
       "ELBERT          731\n",
       "ARCHULETA       523\n",
       "PHILLIPS        497\n",
       "PROWERS         472\n",
       "ROUTT           416\n",
       "FREMONT         402\n",
       "KIT CARSON      396\n",
       "HUERFANO        368\n",
       "SAN MIGUEL      298\n",
       "BENT            271\n",
       "BROOMFIELD      248\n",
       "DOLORES         202\n",
       "SEDGWICK        171\n",
       "GUNNISON        157\n",
       "DELTA           145\n",
       "DENVER          132\n",
       "EL PASO         129\n",
       "MONTROSE         93\n",
       "JEFFERSON        65\n",
       "GRAND            59\n",
       "PUEBLO           48\n",
       "OTERO            33\n",
       "CROWLEY          32\n",
       "PARK             28\n",
       "PITKIN           27\n",
       "OURAY            26\n",
       "DOUGLAS          23\n",
       "SAGUACHE         18\n",
       "CHAFFEE          17\n",
       "RIO GRANDE       15\n",
       "ALAMOSA           9\n",
       "EAGLE             8\n",
       "COSTILLA          6\n",
       "CONEJOS           4\n",
       "CUSTER            3\n",
       "Name: operator_name, dtype: int64"
      ]
     },
     "execution_count": 25,
     "metadata": {},
     "output_type": "execute_result"
    }
   ],
   "source": [
    "# Getting number of wells by County\n",
    "df_wells.groupby('county').count()['operator_name'].sort_values(axis=0, ascending=False)"
   ]
  },
  {
   "cell_type": "code",
   "execution_count": 39,
   "metadata": {
    "collapsed": true
   },
   "outputs": [],
   "source": [
    "def line_plot(df, column):\n",
    "    # Creating line plot\n",
    "    \n",
    "    # Setting up display parameters\n",
    "    mpl.rc('xtick', labelsize=12)\n",
    "    mpl.rc('ytick', labelsize=12)\n",
    "    mpl.rcParams.update({'font.size': 15})\n",
    "\n",
    "    # Plotting Day vs. Average Number of Patients\n",
    "    x = range(len(df.groupby(column).count().index))\n",
    "    y = df.groupby(column).count()['county'].values\n",
    "\n",
    "    fig=plt.figure(figsize=(15,7));\n",
    "    ax=fig.add_subplot(111);\n",
    "    ax.plot(x, y, color='b', linewidth=1.5);\n",
    "    plt.xticks(rotation='vertical');"
   ]
  },
  {
   "cell_type": "code",
   "execution_count": 40,
   "metadata": {},
   "outputs": [
    {
     "data": {
      "text/plain": [
       "Index([u'1/1/1898', u'1/1/1910', u'1/1/1915', u'1/1/1920', u'1/1/1925',\n",
       "       u'1/1/1926', u'1/1/1927', u'1/1/1928', u'1/1/1930', u'1/1/1931',\n",
       "       ...\n",
       "       u'9/9/2007', u'9/9/2008', u'9/9/2009', u'9/9/2010', u'9/9/2011',\n",
       "       u'9/9/2012', u'9/9/2013', u'9/9/2014', u'9/9/2015', u'9/9/2016'],\n",
       "      dtype='object', name=u'status', length=20544)"
      ]
     },
     "execution_count": 40,
     "metadata": {},
     "output_type": "execute_result"
    }
   ],
   "source": [
    "df_wells.groupby('status').count()['county'].index"
   ]
  },
  {
   "cell_type": "code",
   "execution_count": 53,
   "metadata": {},
   "outputs": [
    {
     "data": {
      "text/plain": [
       "[<matplotlib.lines.Line2D at 0x7f97b9286b50>]"
      ]
     },
     "execution_count": 53,
     "metadata": {},
     "output_type": "execute_result"
    },
    {
     "data": {
      "image/png": "[encoded data removed]",
      "text/plain": [
       "<matplotlib.figure.Figure at 0x7f97b8d48890>"
      ]
     },
     "metadata": {},
     "output_type": "display_data"
    }
   ],
   "source": [
    "plt.plot(range(len(df_wells.groupby('status').count().index)), df_wells.groupby('status').count()['county'].values)"
   ]
  },
  {
   "cell_type": "code",
   "execution_count": null,
   "metadata": {
    "collapsed": true
   },
   "outputs": [],
   "source": []
  },
  {
   "cell_type": "code",
   "execution_count": 42,
   "metadata": {},
   "outputs": [
    {
     "ename": "ValueError",
     "evalue": "invalid literal for float(): 9/4/2008",
     "output_type": "error",
     "traceback": [
      "\u001b[0;31m---------------------------------------------------------------------------\u001b[0m",
      "\u001b[0;31mValueError\u001b[0m                                Traceback (most recent call last)",
      "\u001b[0;32m<ipython-input-42-49d898c7ba3e>\u001b[0m in \u001b[0;36m<module>\u001b[0;34m()\u001b[0m\n\u001b[1;32m      1\u001b[0m \u001b[0;31m# Plotting the number Number of permits approved per Day in Colorado\u001b[0m\u001b[0;34m\u001b[0m\u001b[0;34m\u001b[0m\u001b[0m\n\u001b[0;32m----> 2\u001b[0;31m \u001b[0mline_plot\u001b[0m\u001b[0;34m(\u001b[0m\u001b[0mdf_wells\u001b[0m\u001b[0;34m[\u001b[0m\u001b[0;36m0\u001b[0m\u001b[0;34m:\u001b[0m\u001b[0;36m10\u001b[0m\u001b[0;34m]\u001b[0m\u001b[0;34m,\u001b[0m \u001b[0;34m'status'\u001b[0m\u001b[0;34m)\u001b[0m\u001b[0;34m\u001b[0m\u001b[0m\n\u001b[0m\u001b[1;32m      3\u001b[0m \u001b[0mplt\u001b[0m\u001b[0;34m.\u001b[0m\u001b[0mtitle\u001b[0m\u001b[0;34m(\u001b[0m\u001b[0;34m\"Number of CO Drilling Permits Approved per Day\\n\"\u001b[0m\u001b[0;34m)\u001b[0m\u001b[0;34m;\u001b[0m\u001b[0;34m\u001b[0m\u001b[0m\n\u001b[1;32m      4\u001b[0m \u001b[0mplt\u001b[0m\u001b[0;34m.\u001b[0m\u001b[0mxlabel\u001b[0m\u001b[0;34m(\u001b[0m\u001b[0;34m'\\nDate'\u001b[0m\u001b[0;34m)\u001b[0m\u001b[0;34m;\u001b[0m\u001b[0;34m\u001b[0m\u001b[0m\n\u001b[1;32m      5\u001b[0m \u001b[0mplt\u001b[0m\u001b[0;34m.\u001b[0m\u001b[0mylabel\u001b[0m\u001b[0;34m(\u001b[0m\u001b[0;34m'Number of Applications'\u001b[0m\u001b[0;34m)\u001b[0m\u001b[0;34m;\u001b[0m\u001b[0;34m\u001b[0m\u001b[0m\n",
      "\u001b[0;32m<ipython-input-39-45cef2d67235>\u001b[0m in \u001b[0;36mline_plot\u001b[0;34m(df, column)\u001b[0m\n\u001b[1;32m     13\u001b[0m     \u001b[0mfig\u001b[0m\u001b[0;34m=\u001b[0m\u001b[0mplt\u001b[0m\u001b[0;34m.\u001b[0m\u001b[0mfigure\u001b[0m\u001b[0;34m(\u001b[0m\u001b[0mfigsize\u001b[0m\u001b[0;34m=\u001b[0m\u001b[0;34m(\u001b[0m\u001b[0;36m15\u001b[0m\u001b[0;34m,\u001b[0m\u001b[0;36m7\u001b[0m\u001b[0;34m)\u001b[0m\u001b[0;34m)\u001b[0m\u001b[0;34m;\u001b[0m\u001b[0;34m\u001b[0m\u001b[0m\n\u001b[1;32m     14\u001b[0m     \u001b[0max\u001b[0m\u001b[0;34m=\u001b[0m\u001b[0mfig\u001b[0m\u001b[0;34m.\u001b[0m\u001b[0madd_subplot\u001b[0m\u001b[0;34m(\u001b[0m\u001b[0;36m111\u001b[0m\u001b[0;34m)\u001b[0m\u001b[0;34m;\u001b[0m\u001b[0;34m\u001b[0m\u001b[0m\n\u001b[0;32m---> 15\u001b[0;31m     \u001b[0max\u001b[0m\u001b[0;34m.\u001b[0m\u001b[0mplot\u001b[0m\u001b[0;34m(\u001b[0m\u001b[0mx\u001b[0m\u001b[0;34m,\u001b[0m \u001b[0my\u001b[0m\u001b[0;34m,\u001b[0m \u001b[0mcolor\u001b[0m\u001b[0;34m=\u001b[0m\u001b[0;34m'b'\u001b[0m\u001b[0;34m,\u001b[0m \u001b[0mlinewidth\u001b[0m\u001b[0;34m=\u001b[0m\u001b[0;36m1.5\u001b[0m\u001b[0;34m)\u001b[0m\u001b[0;34m;\u001b[0m\u001b[0;34m\u001b[0m\u001b[0m\n\u001b[0m\u001b[1;32m     16\u001b[0m     \u001b[0mplt\u001b[0m\u001b[0;34m.\u001b[0m\u001b[0mxticks\u001b[0m\u001b[0;34m(\u001b[0m\u001b[0mrotation\u001b[0m\u001b[0;34m=\u001b[0m\u001b[0;34m'vertical'\u001b[0m\u001b[0;34m)\u001b[0m\u001b[0;34m;\u001b[0m\u001b[0;34m\u001b[0m\u001b[0m\n",
      "\u001b[0;32m/home/griggs/anaconda2/lib/python2.7/site-packages/matplotlib/__init__.pyc\u001b[0m in \u001b[0;36minner\u001b[0;34m(ax, *args, **kwargs)\u001b[0m\n\u001b[1;32m   1817\u001b[0m                     warnings.warn(msg % (label_namer, func.__name__),\n\u001b[1;32m   1818\u001b[0m                                   RuntimeWarning, stacklevel=2)\n\u001b[0;32m-> 1819\u001b[0;31m             \u001b[0;32mreturn\u001b[0m \u001b[0mfunc\u001b[0m\u001b[0;34m(\u001b[0m\u001b[0max\u001b[0m\u001b[0;34m,\u001b[0m \u001b[0;34m*\u001b[0m\u001b[0margs\u001b[0m\u001b[0;34m,\u001b[0m \u001b[0;34m**\u001b[0m\u001b[0mkwargs\u001b[0m\u001b[0;34m)\u001b[0m\u001b[0;34m\u001b[0m\u001b[0m\n\u001b[0m\u001b[1;32m   1820\u001b[0m         \u001b[0mpre_doc\u001b[0m \u001b[0;34m=\u001b[0m \u001b[0minner\u001b[0m\u001b[0;34m.\u001b[0m\u001b[0m__doc__\u001b[0m\u001b[0;34m\u001b[0m\u001b[0m\n\u001b[1;32m   1821\u001b[0m         \u001b[0;32mif\u001b[0m \u001b[0mpre_doc\u001b[0m \u001b[0;32mis\u001b[0m \u001b[0mNone\u001b[0m\u001b[0;34m:\u001b[0m\u001b[0;34m\u001b[0m\u001b[0m\n",
      "\u001b[0;32m/home/griggs/anaconda2/lib/python2.7/site-packages/matplotlib/axes/_axes.pyc\u001b[0m in \u001b[0;36mplot\u001b[0;34m(self, *args, **kwargs)\u001b[0m\n\u001b[1;32m   1381\u001b[0m \u001b[0;34m\u001b[0m\u001b[0m\n\u001b[1;32m   1382\u001b[0m         \u001b[0;32mfor\u001b[0m \u001b[0mline\u001b[0m \u001b[0;32min\u001b[0m \u001b[0mself\u001b[0m\u001b[0;34m.\u001b[0m\u001b[0m_get_lines\u001b[0m\u001b[0;34m(\u001b[0m\u001b[0;34m*\u001b[0m\u001b[0margs\u001b[0m\u001b[0;34m,\u001b[0m \u001b[0;34m**\u001b[0m\u001b[0mkwargs\u001b[0m\u001b[0;34m)\u001b[0m\u001b[0;34m:\u001b[0m\u001b[0;34m\u001b[0m\u001b[0m\n\u001b[0;32m-> 1383\u001b[0;31m             \u001b[0mself\u001b[0m\u001b[0;34m.\u001b[0m\u001b[0madd_line\u001b[0m\u001b[0;34m(\u001b[0m\u001b[0mline\u001b[0m\u001b[0;34m)\u001b[0m\u001b[0;34m\u001b[0m\u001b[0m\n\u001b[0m\u001b[1;32m   1384\u001b[0m             \u001b[0mlines\u001b[0m\u001b[0;34m.\u001b[0m\u001b[0mappend\u001b[0m\u001b[0;34m(\u001b[0m\u001b[0mline\u001b[0m\u001b[0;34m)\u001b[0m\u001b[0;34m\u001b[0m\u001b[0m\n\u001b[1;32m   1385\u001b[0m \u001b[0;34m\u001b[0m\u001b[0m\n",
      "\u001b[0;32m/home/griggs/anaconda2/lib/python2.7/site-packages/matplotlib/axes/_base.pyc\u001b[0m in \u001b[0;36madd_line\u001b[0;34m(self, line)\u001b[0m\n\u001b[1;32m   1701\u001b[0m             \u001b[0mline\u001b[0m\u001b[0;34m.\u001b[0m\u001b[0mset_clip_path\u001b[0m\u001b[0;34m(\u001b[0m\u001b[0mself\u001b[0m\u001b[0;34m.\u001b[0m\u001b[0mpatch\u001b[0m\u001b[0;34m)\u001b[0m\u001b[0;34m\u001b[0m\u001b[0m\n\u001b[1;32m   1702\u001b[0m \u001b[0;34m\u001b[0m\u001b[0m\n\u001b[0;32m-> 1703\u001b[0;31m         \u001b[0mself\u001b[0m\u001b[0;34m.\u001b[0m\u001b[0m_update_line_limits\u001b[0m\u001b[0;34m(\u001b[0m\u001b[0mline\u001b[0m\u001b[0;34m)\u001b[0m\u001b[0;34m\u001b[0m\u001b[0m\n\u001b[0m\u001b[1;32m   1704\u001b[0m         \u001b[0;32mif\u001b[0m \u001b[0;32mnot\u001b[0m \u001b[0mline\u001b[0m\u001b[0;34m.\u001b[0m\u001b[0mget_label\u001b[0m\u001b[0;34m(\u001b[0m\u001b[0;34m)\u001b[0m\u001b[0;34m:\u001b[0m\u001b[0;34m\u001b[0m\u001b[0m\n\u001b[1;32m   1705\u001b[0m             \u001b[0mline\u001b[0m\u001b[0;34m.\u001b[0m\u001b[0mset_label\u001b[0m\u001b[0;34m(\u001b[0m\u001b[0;34m'_line%d'\u001b[0m \u001b[0;34m%\u001b[0m \u001b[0mlen\u001b[0m\u001b[0;34m(\u001b[0m\u001b[0mself\u001b[0m\u001b[0;34m.\u001b[0m\u001b[0mlines\u001b[0m\u001b[0;34m)\u001b[0m\u001b[0;34m)\u001b[0m\u001b[0;34m\u001b[0m\u001b[0m\n",
      "\u001b[0;32m/home/griggs/anaconda2/lib/python2.7/site-packages/matplotlib/axes/_base.pyc\u001b[0m in \u001b[0;36m_update_line_limits\u001b[0;34m(self, line)\u001b[0m\n\u001b[1;32m   1723\u001b[0m         \u001b[0mFigures\u001b[0m \u001b[0mout\u001b[0m \u001b[0mthe\u001b[0m \u001b[0mdata\u001b[0m \u001b[0mlimit\u001b[0m \u001b[0mof\u001b[0m \u001b[0mthe\u001b[0m \u001b[0mgiven\u001b[0m \u001b[0mline\u001b[0m\u001b[0;34m,\u001b[0m \u001b[0mupdating\u001b[0m \u001b[0mself\u001b[0m\u001b[0;34m.\u001b[0m\u001b[0mdataLim\u001b[0m\u001b[0;34m.\u001b[0m\u001b[0;34m\u001b[0m\u001b[0m\n\u001b[1;32m   1724\u001b[0m         \"\"\"\n\u001b[0;32m-> 1725\u001b[0;31m         \u001b[0mpath\u001b[0m \u001b[0;34m=\u001b[0m \u001b[0mline\u001b[0m\u001b[0;34m.\u001b[0m\u001b[0mget_path\u001b[0m\u001b[0;34m(\u001b[0m\u001b[0;34m)\u001b[0m\u001b[0;34m\u001b[0m\u001b[0m\n\u001b[0m\u001b[1;32m   1726\u001b[0m         \u001b[0;32mif\u001b[0m \u001b[0mpath\u001b[0m\u001b[0;34m.\u001b[0m\u001b[0mvertices\u001b[0m\u001b[0;34m.\u001b[0m\u001b[0msize\u001b[0m \u001b[0;34m==\u001b[0m \u001b[0;36m0\u001b[0m\u001b[0;34m:\u001b[0m\u001b[0;34m\u001b[0m\u001b[0m\n\u001b[1;32m   1727\u001b[0m             \u001b[0;32mreturn\u001b[0m\u001b[0;34m\u001b[0m\u001b[0m\n",
      "\u001b[0;32m/home/griggs/anaconda2/lib/python2.7/site-packages/matplotlib/lines.pyc\u001b[0m in \u001b[0;36mget_path\u001b[0;34m(self)\u001b[0m\n\u001b[1;32m    936\u001b[0m         \"\"\"\n\u001b[1;32m    937\u001b[0m         \u001b[0;32mif\u001b[0m \u001b[0mself\u001b[0m\u001b[0;34m.\u001b[0m\u001b[0m_invalidy\u001b[0m \u001b[0;32mor\u001b[0m \u001b[0mself\u001b[0m\u001b[0;34m.\u001b[0m\u001b[0m_invalidx\u001b[0m\u001b[0;34m:\u001b[0m\u001b[0;34m\u001b[0m\u001b[0m\n\u001b[0;32m--> 938\u001b[0;31m             \u001b[0mself\u001b[0m\u001b[0;34m.\u001b[0m\u001b[0mrecache\u001b[0m\u001b[0;34m(\u001b[0m\u001b[0;34m)\u001b[0m\u001b[0;34m\u001b[0m\u001b[0m\n\u001b[0m\u001b[1;32m    939\u001b[0m         \u001b[0;32mreturn\u001b[0m \u001b[0mself\u001b[0m\u001b[0;34m.\u001b[0m\u001b[0m_path\u001b[0m\u001b[0;34m\u001b[0m\u001b[0m\n\u001b[1;32m    940\u001b[0m \u001b[0;34m\u001b[0m\u001b[0m\n",
      "\u001b[0;32m/home/griggs/anaconda2/lib/python2.7/site-packages/matplotlib/lines.pyc\u001b[0m in \u001b[0;36mrecache\u001b[0;34m(self, always)\u001b[0m\n\u001b[1;32m    623\u001b[0m                 \u001b[0mx\u001b[0m \u001b[0;34m=\u001b[0m \u001b[0mma\u001b[0m\u001b[0;34m.\u001b[0m\u001b[0masarray\u001b[0m\u001b[0;34m(\u001b[0m\u001b[0mxconv\u001b[0m\u001b[0;34m,\u001b[0m \u001b[0mnp\u001b[0m\u001b[0;34m.\u001b[0m\u001b[0mfloat_\u001b[0m\u001b[0;34m)\u001b[0m\u001b[0;34m.\u001b[0m\u001b[0mfilled\u001b[0m\u001b[0;34m(\u001b[0m\u001b[0mnp\u001b[0m\u001b[0;34m.\u001b[0m\u001b[0mnan\u001b[0m\u001b[0;34m)\u001b[0m\u001b[0;34m\u001b[0m\u001b[0m\n\u001b[1;32m    624\u001b[0m             \u001b[0;32melse\u001b[0m\u001b[0;34m:\u001b[0m\u001b[0;34m\u001b[0m\u001b[0m\n\u001b[0;32m--> 625\u001b[0;31m                 \u001b[0mx\u001b[0m \u001b[0;34m=\u001b[0m \u001b[0mnp\u001b[0m\u001b[0;34m.\u001b[0m\u001b[0masarray\u001b[0m\u001b[0;34m(\u001b[0m\u001b[0mxconv\u001b[0m\u001b[0;34m,\u001b[0m \u001b[0mnp\u001b[0m\u001b[0;34m.\u001b[0m\u001b[0mfloat_\u001b[0m\u001b[0;34m)\u001b[0m\u001b[0;34m\u001b[0m\u001b[0m\n\u001b[0m\u001b[1;32m    626\u001b[0m             \u001b[0mx\u001b[0m \u001b[0;34m=\u001b[0m \u001b[0mx\u001b[0m\u001b[0;34m.\u001b[0m\u001b[0mravel\u001b[0m\u001b[0;34m(\u001b[0m\u001b[0;34m)\u001b[0m\u001b[0;34m\u001b[0m\u001b[0m\n\u001b[1;32m    627\u001b[0m         \u001b[0;32melse\u001b[0m\u001b[0;34m:\u001b[0m\u001b[0;34m\u001b[0m\u001b[0m\n",
      "\u001b[0;32m/home/griggs/anaconda2/lib/python2.7/site-packages/numpy/core/numeric.pyc\u001b[0m in \u001b[0;36masarray\u001b[0;34m(a, dtype, order)\u001b[0m\n\u001b[1;32m    529\u001b[0m \u001b[0;34m\u001b[0m\u001b[0m\n\u001b[1;32m    530\u001b[0m     \"\"\"\n\u001b[0;32m--> 531\u001b[0;31m     \u001b[0;32mreturn\u001b[0m \u001b[0marray\u001b[0m\u001b[0;34m(\u001b[0m\u001b[0ma\u001b[0m\u001b[0;34m,\u001b[0m \u001b[0mdtype\u001b[0m\u001b[0;34m,\u001b[0m \u001b[0mcopy\u001b[0m\u001b[0;34m=\u001b[0m\u001b[0mFalse\u001b[0m\u001b[0;34m,\u001b[0m \u001b[0morder\u001b[0m\u001b[0;34m=\u001b[0m\u001b[0morder\u001b[0m\u001b[0;34m)\u001b[0m\u001b[0;34m\u001b[0m\u001b[0m\n\u001b[0m\u001b[1;32m    532\u001b[0m \u001b[0;34m\u001b[0m\u001b[0m\n\u001b[1;32m    533\u001b[0m \u001b[0;34m\u001b[0m\u001b[0m\n",
      "\u001b[0;31mValueError\u001b[0m: invalid literal for float(): 9/4/2008"
     ]
    },
    {
     "data": {
      "image/png": "[encoded data removed]",
      "text/plain": [
       "<matplotlib.figure.Figure at 0x7f97b50f5690>"
      ]
     },
     "metadata": {},
     "output_type": "display_data"
    }
   ],
   "source": [
    "# Plotting the number Number of permits approved per Day in Colorado\n",
    "line_plot(df_wells[0:10], 'status')\n",
    "plt.title(\"Number of CO Drilling Permits Approved per Day\\n\");\n",
    "plt.xlabel('\\nDate');\n",
    "plt.ylabel('Number of Applications');"
   ]
  },
  {
   "cell_type": "code",
   "execution_count": null,
   "metadata": {
    "collapsed": true
   },
   "outputs": [],
   "source": []
  },
  {
   "cell_type": "code",
   "execution_count": null,
   "metadata": {
    "collapsed": true
   },
   "outputs": [],
   "source": []
  },
  {
   "cell_type": "code",
   "execution_count": null,
   "metadata": {
    "collapsed": true
   },
   "outputs": [],
   "source": []
  },
  {
   "cell_type": "code",
   "execution_count": null,
   "metadata": {
    "collapsed": true
   },
   "outputs": [],
   "source": []
  },
  {
   "cell_type": "code",
   "execution_count": null,
   "metadata": {
    "collapsed": true
   },
   "outputs": [],
   "source": []
  },
  {
   "cell_type": "code",
   "execution_count": null,
   "metadata": {
    "collapsed": true
   },
   "outputs": [],
   "source": []
  }
 ],
 "metadata": {
  "anaconda-cloud": {},
  "kernelspec": {
   "display_name": "Python [conda root]",
   "language": "python",
   "name": "conda-root-py"
  },
  "language_info": {
   "codemirror_mode": {
    "name": "ipython",
    "version": 2
   },
   "file_extension": ".py",
   "mimetype": "text/x-python",
   "name": "python",
   "nbconvert_exporter": "python",
   "pygments_lexer": "ipython2",
   "version": "2.7.12"
  }
 },
 "nbformat": 4,
 "nbformat_minor": 2
}
